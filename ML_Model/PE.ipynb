{
 "cells": [
  {
   "cell_type": "markdown",
   "id": "df34ac9d-529b-48c4-812b-4056e861ac91",
   "metadata": {
    "pycharm": {
     "name": "#%% md\n"
    }
   },
   "source": [
    "#### Importing the dataset\n",
    "#### Source : \n"
   ]
  },
  {
   "cell_type": "code",
   "execution_count": 3,
   "id": "83d69918-74c7-47f1-bd2d-a7a55386d33a",
   "metadata": {
    "pycharm": {
     "name": "#%%\n"
    }
   },
   "outputs": [],
   "source": [
    "import pandas as pd\n",
    "dataset = pd.read_csv('../Dataset/data.csv', sep='|')"
   ]
  },
  {
   "cell_type": "markdown",
   "id": "542b3597-756a-42d3-82ca-566085b41a6d",
   "metadata": {
    "pycharm": {
     "name": "#%% md\n"
    }
   },
   "source": [
    "#### About the dataset"
   ]
  },
  {
   "cell_type": "code",
   "execution_count": 4,
   "id": "154743d0-d97e-4d8e-908d-93e35061cbec",
   "metadata": {
    "pycharm": {
     "name": "#%%\n"
    }
   },
   "outputs": [
    {
     "data": {
      "text/plain": "           Name                               md5  Machine  \\\n0   memtest.exe  631ea355665f28d4707448e442fbf5b8      332   \n1       ose.exe  9d10f99a6712e28f8acd5641e3a7ea6b      332   \n2     setup.exe  4d92f518527353c0db88a70fddcfd390      332   \n3      DW20.EXE  a41e524f8d45f0074fd07805ff0c9b12      332   \n4  dwtrig20.exe  c87e561258f2f8650cef999bf643a731      332   \n\n   SizeOfOptionalHeader  Characteristics  MajorLinkerVersion  \\\n0                   224              258                   9   \n1                   224             3330                   9   \n2                   224             3330                   9   \n3                   224              258                   9   \n4                   224              258                   9   \n\n   MinorLinkerVersion  SizeOfCode  SizeOfInitializedData  \\\n0                   0      361984                 115712   \n1                   0      130560                  19968   \n2                   0      517120                 621568   \n3                   0      585728                 369152   \n4                   0      294912                 247296   \n\n   SizeOfUninitializedData  ...  ResourcesNb  ResourcesMeanEntropy  \\\n0                        0  ...            4              3.262823   \n1                        0  ...            2              4.250461   \n2                        0  ...           11              4.426324   \n3                        0  ...           10              4.364291   \n4                        0  ...            2              4.306100   \n\n   ResourcesMinEntropy  ResourcesMaxEntropy  ResourcesMeanSize  \\\n0             2.568844             3.537939        8797.000000   \n1             3.420744             5.080177         837.000000   \n2             2.846449             5.271813       31102.272727   \n3             2.669314             6.400720        1457.000000   \n4             3.421598             5.190603        1074.500000   \n\n   ResourcesMinSize  ResourcesMaxSize  LoadConfigurationSize  \\\n0               216             18032                      0   \n1               518              1156                     72   \n2               104            270376                     72   \n3                90              4264                     72   \n4               849              1300                     72   \n\n   VersionInformationSize  legitimate  \n0                      16           1  \n1                      18           1  \n2                      18           1  \n3                      18           1  \n4                      18           1  \n\n[5 rows x 57 columns]",
      "text/html": "<div>\n<style scoped>\n    .dataframe tbody tr th:only-of-type {\n        vertical-align: middle;\n    }\n\n    .dataframe tbody tr th {\n        vertical-align: top;\n    }\n\n    .dataframe thead th {\n        text-align: right;\n    }\n</style>\n<table border=\"1\" class=\"dataframe\">\n  <thead>\n    <tr style=\"text-align: right;\">\n      <th></th>\n      <th>Name</th>\n      <th>md5</th>\n      <th>Machine</th>\n      <th>SizeOfOptionalHeader</th>\n      <th>Characteristics</th>\n      <th>MajorLinkerVersion</th>\n      <th>MinorLinkerVersion</th>\n      <th>SizeOfCode</th>\n      <th>SizeOfInitializedData</th>\n      <th>SizeOfUninitializedData</th>\n      <th>...</th>\n      <th>ResourcesNb</th>\n      <th>ResourcesMeanEntropy</th>\n      <th>ResourcesMinEntropy</th>\n      <th>ResourcesMaxEntropy</th>\n      <th>ResourcesMeanSize</th>\n      <th>ResourcesMinSize</th>\n      <th>ResourcesMaxSize</th>\n      <th>LoadConfigurationSize</th>\n      <th>VersionInformationSize</th>\n      <th>legitimate</th>\n    </tr>\n  </thead>\n  <tbody>\n    <tr>\n      <th>0</th>\n      <td>memtest.exe</td>\n      <td>631ea355665f28d4707448e442fbf5b8</td>\n      <td>332</td>\n      <td>224</td>\n      <td>258</td>\n      <td>9</td>\n      <td>0</td>\n      <td>361984</td>\n      <td>115712</td>\n      <td>0</td>\n      <td>...</td>\n      <td>4</td>\n      <td>3.262823</td>\n      <td>2.568844</td>\n      <td>3.537939</td>\n      <td>8797.000000</td>\n      <td>216</td>\n      <td>18032</td>\n      <td>0</td>\n      <td>16</td>\n      <td>1</td>\n    </tr>\n    <tr>\n      <th>1</th>\n      <td>ose.exe</td>\n      <td>9d10f99a6712e28f8acd5641e3a7ea6b</td>\n      <td>332</td>\n      <td>224</td>\n      <td>3330</td>\n      <td>9</td>\n      <td>0</td>\n      <td>130560</td>\n      <td>19968</td>\n      <td>0</td>\n      <td>...</td>\n      <td>2</td>\n      <td>4.250461</td>\n      <td>3.420744</td>\n      <td>5.080177</td>\n      <td>837.000000</td>\n      <td>518</td>\n      <td>1156</td>\n      <td>72</td>\n      <td>18</td>\n      <td>1</td>\n    </tr>\n    <tr>\n      <th>2</th>\n      <td>setup.exe</td>\n      <td>4d92f518527353c0db88a70fddcfd390</td>\n      <td>332</td>\n      <td>224</td>\n      <td>3330</td>\n      <td>9</td>\n      <td>0</td>\n      <td>517120</td>\n      <td>621568</td>\n      <td>0</td>\n      <td>...</td>\n      <td>11</td>\n      <td>4.426324</td>\n      <td>2.846449</td>\n      <td>5.271813</td>\n      <td>31102.272727</td>\n      <td>104</td>\n      <td>270376</td>\n      <td>72</td>\n      <td>18</td>\n      <td>1</td>\n    </tr>\n    <tr>\n      <th>3</th>\n      <td>DW20.EXE</td>\n      <td>a41e524f8d45f0074fd07805ff0c9b12</td>\n      <td>332</td>\n      <td>224</td>\n      <td>258</td>\n      <td>9</td>\n      <td>0</td>\n      <td>585728</td>\n      <td>369152</td>\n      <td>0</td>\n      <td>...</td>\n      <td>10</td>\n      <td>4.364291</td>\n      <td>2.669314</td>\n      <td>6.400720</td>\n      <td>1457.000000</td>\n      <td>90</td>\n      <td>4264</td>\n      <td>72</td>\n      <td>18</td>\n      <td>1</td>\n    </tr>\n    <tr>\n      <th>4</th>\n      <td>dwtrig20.exe</td>\n      <td>c87e561258f2f8650cef999bf643a731</td>\n      <td>332</td>\n      <td>224</td>\n      <td>258</td>\n      <td>9</td>\n      <td>0</td>\n      <td>294912</td>\n      <td>247296</td>\n      <td>0</td>\n      <td>...</td>\n      <td>2</td>\n      <td>4.306100</td>\n      <td>3.421598</td>\n      <td>5.190603</td>\n      <td>1074.500000</td>\n      <td>849</td>\n      <td>1300</td>\n      <td>72</td>\n      <td>18</td>\n      <td>1</td>\n    </tr>\n  </tbody>\n</table>\n<p>5 rows × 57 columns</p>\n</div>"
     },
     "execution_count": 4,
     "metadata": {},
     "output_type": "execute_result"
    }
   ],
   "source": [
    "dataset.head()    #Top 5 row of the dataset"
   ]
  },
  {
   "cell_type": "code",
   "execution_count": 5,
   "id": "aa839e66-580f-4968-ae49-cf60b496396b",
   "metadata": {
    "pycharm": {
     "name": "#%%\n"
    }
   },
   "outputs": [
    {
     "data": {
      "text/plain": "                                               Name  \\\n138042  VirusShare_8e292b418568d6e7b87f2a32aee7074b   \n138043  VirusShare_260d9e2258aed4c8a3bbd703ec895822   \n138044  VirusShare_8d088a51b7d225c9f5d11d239791ec3f   \n138045  VirusShare_4286dccf67ca220fe67635388229a9f3   \n138046  VirusShare_d7648eae45f09b3adb75127f43be6d11   \n\n                                     md5  Machine  SizeOfOptionalHeader  \\\n138042  8e292b418568d6e7b87f2a32aee7074b      332                   224   \n138043  260d9e2258aed4c8a3bbd703ec895822      332                   224   \n138044  8d088a51b7d225c9f5d11d239791ec3f      332                   224   \n138045  4286dccf67ca220fe67635388229a9f3      332                   224   \n138046  d7648eae45f09b3adb75127f43be6d11      332                   224   \n\n        Characteristics  MajorLinkerVersion  MinorLinkerVersion  SizeOfCode  \\\n138042              258                  11                   0      205824   \n138043            33167                   2                  25       37888   \n138044              258                  10                   0      118272   \n138045            33166                   2                  25       49152   \n138046              258                  11                   0      111616   \n\n        SizeOfInitializedData  SizeOfUninitializedData  ...  ResourcesNb  \\\n138042                 223744                        0  ...            7   \n138043                 185344                        0  ...           26   \n138044                 380416                        0  ...           22   \n138045                  16896                        0  ...           10   \n138046                 468480                        0  ...            4   \n\n        ResourcesMeanEntropy  ResourcesMinEntropy  ResourcesMaxEntropy  \\\n138042              4.122736             1.370260             7.677091   \n138043              3.377663             2.031619             5.050074   \n138044              6.825406             2.617026             7.990487   \n138045              3.421627             2.060964             4.739744   \n138046              4.407252             1.980482             6.115374   \n\n        ResourcesMeanSize  ResourcesMinSize  ResourcesMaxSize  \\\n138042       14900.714286                16             81654   \n138043        6905.846154                44             67624   \n138044       14981.909091                48             22648   \n138045         601.600000                16              2216   \n138046       96625.000000                20            318464   \n\n        LoadConfigurationSize  VersionInformationSize  legitimate  \n138042                     72                       0           0  \n138043                      0                      15           0  \n138044                     72                      14           0  \n138045                      0                       0           0  \n138046                     72                       0           0  \n\n[5 rows x 57 columns]",
      "text/html": "<div>\n<style scoped>\n    .dataframe tbody tr th:only-of-type {\n        vertical-align: middle;\n    }\n\n    .dataframe tbody tr th {\n        vertical-align: top;\n    }\n\n    .dataframe thead th {\n        text-align: right;\n    }\n</style>\n<table border=\"1\" class=\"dataframe\">\n  <thead>\n    <tr style=\"text-align: right;\">\n      <th></th>\n      <th>Name</th>\n      <th>md5</th>\n      <th>Machine</th>\n      <th>SizeOfOptionalHeader</th>\n      <th>Characteristics</th>\n      <th>MajorLinkerVersion</th>\n      <th>MinorLinkerVersion</th>\n      <th>SizeOfCode</th>\n      <th>SizeOfInitializedData</th>\n      <th>SizeOfUninitializedData</th>\n      <th>...</th>\n      <th>ResourcesNb</th>\n      <th>ResourcesMeanEntropy</th>\n      <th>ResourcesMinEntropy</th>\n      <th>ResourcesMaxEntropy</th>\n      <th>ResourcesMeanSize</th>\n      <th>ResourcesMinSize</th>\n      <th>ResourcesMaxSize</th>\n      <th>LoadConfigurationSize</th>\n      <th>VersionInformationSize</th>\n      <th>legitimate</th>\n    </tr>\n  </thead>\n  <tbody>\n    <tr>\n      <th>138042</th>\n      <td>VirusShare_8e292b418568d6e7b87f2a32aee7074b</td>\n      <td>8e292b418568d6e7b87f2a32aee7074b</td>\n      <td>332</td>\n      <td>224</td>\n      <td>258</td>\n      <td>11</td>\n      <td>0</td>\n      <td>205824</td>\n      <td>223744</td>\n      <td>0</td>\n      <td>...</td>\n      <td>7</td>\n      <td>4.122736</td>\n      <td>1.370260</td>\n      <td>7.677091</td>\n      <td>14900.714286</td>\n      <td>16</td>\n      <td>81654</td>\n      <td>72</td>\n      <td>0</td>\n      <td>0</td>\n    </tr>\n    <tr>\n      <th>138043</th>\n      <td>VirusShare_260d9e2258aed4c8a3bbd703ec895822</td>\n      <td>260d9e2258aed4c8a3bbd703ec895822</td>\n      <td>332</td>\n      <td>224</td>\n      <td>33167</td>\n      <td>2</td>\n      <td>25</td>\n      <td>37888</td>\n      <td>185344</td>\n      <td>0</td>\n      <td>...</td>\n      <td>26</td>\n      <td>3.377663</td>\n      <td>2.031619</td>\n      <td>5.050074</td>\n      <td>6905.846154</td>\n      <td>44</td>\n      <td>67624</td>\n      <td>0</td>\n      <td>15</td>\n      <td>0</td>\n    </tr>\n    <tr>\n      <th>138044</th>\n      <td>VirusShare_8d088a51b7d225c9f5d11d239791ec3f</td>\n      <td>8d088a51b7d225c9f5d11d239791ec3f</td>\n      <td>332</td>\n      <td>224</td>\n      <td>258</td>\n      <td>10</td>\n      <td>0</td>\n      <td>118272</td>\n      <td>380416</td>\n      <td>0</td>\n      <td>...</td>\n      <td>22</td>\n      <td>6.825406</td>\n      <td>2.617026</td>\n      <td>7.990487</td>\n      <td>14981.909091</td>\n      <td>48</td>\n      <td>22648</td>\n      <td>72</td>\n      <td>14</td>\n      <td>0</td>\n    </tr>\n    <tr>\n      <th>138045</th>\n      <td>VirusShare_4286dccf67ca220fe67635388229a9f3</td>\n      <td>4286dccf67ca220fe67635388229a9f3</td>\n      <td>332</td>\n      <td>224</td>\n      <td>33166</td>\n      <td>2</td>\n      <td>25</td>\n      <td>49152</td>\n      <td>16896</td>\n      <td>0</td>\n      <td>...</td>\n      <td>10</td>\n      <td>3.421627</td>\n      <td>2.060964</td>\n      <td>4.739744</td>\n      <td>601.600000</td>\n      <td>16</td>\n      <td>2216</td>\n      <td>0</td>\n      <td>0</td>\n      <td>0</td>\n    </tr>\n    <tr>\n      <th>138046</th>\n      <td>VirusShare_d7648eae45f09b3adb75127f43be6d11</td>\n      <td>d7648eae45f09b3adb75127f43be6d11</td>\n      <td>332</td>\n      <td>224</td>\n      <td>258</td>\n      <td>11</td>\n      <td>0</td>\n      <td>111616</td>\n      <td>468480</td>\n      <td>0</td>\n      <td>...</td>\n      <td>4</td>\n      <td>4.407252</td>\n      <td>1.980482</td>\n      <td>6.115374</td>\n      <td>96625.000000</td>\n      <td>20</td>\n      <td>318464</td>\n      <td>72</td>\n      <td>0</td>\n      <td>0</td>\n    </tr>\n  </tbody>\n</table>\n<p>5 rows × 57 columns</p>\n</div>"
     },
     "execution_count": 5,
     "metadata": {},
     "output_type": "execute_result"
    }
   ],
   "source": [
    "dataset.tail()     #Last 5 row of the dataset"
   ]
  },
  {
   "cell_type": "code",
   "execution_count": 6,
   "id": "9e64f6ec-a8a3-4d90-ad89-a12b94e87605",
   "metadata": {
    "pycharm": {
     "name": "#%%\n"
    }
   },
   "outputs": [
    {
     "data": {
      "text/plain": "Index(['Name', 'md5', 'Machine', 'SizeOfOptionalHeader', 'Characteristics',\n       'MajorLinkerVersion', 'MinorLinkerVersion', 'SizeOfCode',\n       'SizeOfInitializedData', 'SizeOfUninitializedData',\n       'AddressOfEntryPoint', 'BaseOfCode', 'BaseOfData', 'ImageBase',\n       'SectionAlignment', 'FileAlignment', 'MajorOperatingSystemVersion',\n       'MinorOperatingSystemVersion', 'MajorImageVersion', 'MinorImageVersion',\n       'MajorSubsystemVersion', 'MinorSubsystemVersion', 'SizeOfImage',\n       'SizeOfHeaders', 'CheckSum', 'Subsystem', 'DllCharacteristics',\n       'SizeOfStackReserve', 'SizeOfStackCommit', 'SizeOfHeapReserve',\n       'SizeOfHeapCommit', 'LoaderFlags', 'NumberOfRvaAndSizes', 'SectionsNb',\n       'SectionsMeanEntropy', 'SectionsMinEntropy', 'SectionsMaxEntropy',\n       'SectionsMeanRawsize', 'SectionsMinRawsize', 'SectionMaxRawsize',\n       'SectionsMeanVirtualsize', 'SectionsMinVirtualsize',\n       'SectionMaxVirtualsize', 'ImportsNbDLL', 'ImportsNb',\n       'ImportsNbOrdinal', 'ExportNb', 'ResourcesNb', 'ResourcesMeanEntropy',\n       'ResourcesMinEntropy', 'ResourcesMaxEntropy', 'ResourcesMeanSize',\n       'ResourcesMinSize', 'ResourcesMaxSize', 'LoadConfigurationSize',\n       'VersionInformationSize', 'legitimate'],\n      dtype='object')"
     },
     "execution_count": 6,
     "metadata": {},
     "output_type": "execute_result"
    }
   ],
   "source": [
    "dataset.columns    # name of the columns"
   ]
  },
  {
   "cell_type": "code",
   "execution_count": 7,
   "id": "f73017bd-9441-4845-aa36-de4b1a77839e",
   "metadata": {
    "pycharm": {
     "name": "#%%\n"
    }
   },
   "outputs": [
    {
     "data": {
      "text/plain": "              Name                               md5        Machine  \\\ncount       138047                            138047  138047.000000   \nunique      107488                            138047            NaN   \ntop     mshtml.dll  631ea355665f28d4707448e442fbf5b8            NaN   \nfreq           187                                 1            NaN   \nmean           NaN                               NaN    4259.069274   \nstd            NaN                               NaN   10880.347245   \nmin            NaN                               NaN     332.000000   \n25%            NaN                               NaN     332.000000   \n50%            NaN                               NaN     332.000000   \n75%            NaN                               NaN     332.000000   \nmax            NaN                               NaN   34404.000000   \n\n        SizeOfOptionalHeader  Characteristics  MajorLinkerVersion  \\\ncount          138047.000000    138047.000000       138047.000000   \nunique                   NaN              NaN                 NaN   \ntop                      NaN              NaN                 NaN   \nfreq                     NaN              NaN                 NaN   \nmean              225.845632      4444.145994            8.619774   \nstd                 5.121399      8186.782524            4.088757   \nmin               224.000000         2.000000            0.000000   \n25%               224.000000       258.000000            8.000000   \n50%               224.000000       258.000000            9.000000   \n75%               224.000000      8226.000000           10.000000   \nmax               352.000000     49551.000000          255.000000   \n\n        MinorLinkerVersion    SizeOfCode  SizeOfInitializedData  \\\ncount        138047.000000  1.380470e+05           1.380470e+05   \nunique                 NaN           NaN                    NaN   \ntop                    NaN           NaN                    NaN   \nfreq                   NaN           NaN                    NaN   \nmean              3.819286  2.425956e+05           4.504867e+05   \nstd              11.862675  5.754485e+06           2.101599e+07   \nmin               0.000000  0.000000e+00           0.000000e+00   \n25%               0.000000  3.020800e+04           2.457600e+04   \n50%               0.000000  1.136640e+05           2.631680e+05   \n75%               0.000000  1.203200e+05           3.850240e+05   \nmax             255.000000  1.818587e+09           4.294966e+09   \n\n        SizeOfUninitializedData  ...    ResourcesNb  ResourcesMeanEntropy  \\\ncount              1.380470e+05  ...  138047.000000         138047.000000   \nunique                      NaN  ...            NaN                   NaN   \ntop                         NaN  ...            NaN                   NaN   \nfreq                        NaN  ...            NaN                   NaN   \nmean               1.009525e+05  ...      22.050700              4.000127   \nstd                1.635288e+07  ...     136.494244              1.112981   \nmin                0.000000e+00  ...       0.000000              0.000000   \n25%                0.000000e+00  ...       5.000000              3.458505   \n50%                0.000000e+00  ...       6.000000              3.729824   \n75%                0.000000e+00  ...      13.000000              4.233051   \nmax                4.294941e+09  ...    7694.000000              7.999723   \n\n        ResourcesMinEntropy  ResourcesMaxEntropy  ResourcesMeanSize  \\\ncount         138047.000000        138047.000000       1.380470e+05   \nunique                  NaN                  NaN                NaN   \ntop                     NaN                  NaN                NaN   \nfreq                    NaN                  NaN                NaN   \nmean               2.434541             5.521610       5.545093e+04   \nstd                0.815577             1.597403       7.799163e+06   \nmin                0.000000             0.000000       0.000000e+00   \n25%                2.178748             4.828706       9.560000e+02   \n50%                2.458492             5.317552       2.708154e+03   \n75%                2.696833             6.502239       6.558429e+03   \nmax                7.999723             8.000000       2.415919e+09   \n\n        ResourcesMinSize  ResourcesMaxSize  LoadConfigurationSize  \\\ncount       1.380470e+05      1.380470e+05           1.380470e+05   \nunique               NaN               NaN                    NaN   \ntop                  NaN               NaN                    NaN   \nfreq                 NaN               NaN                    NaN   \nmean        1.818082e+04      2.465903e+05           4.656750e+05   \nstd         6.502369e+06      2.124860e+07           2.608987e+07   \nmin         0.000000e+00      0.000000e+00           0.000000e+00   \n25%         4.800000e+01      2.216000e+03           0.000000e+00   \n50%         4.800000e+01      9.640000e+03           7.200000e+01   \n75%         1.320000e+02      2.378000e+04           7.200000e+01   \nmax         2.415919e+09      4.294903e+09           4.294967e+09   \n\n        VersionInformationSize     legitimate  \ncount            138047.000000  138047.000000  \nunique                     NaN            NaN  \ntop                        NaN            NaN  \nfreq                       NaN            NaN  \nmean                 12.363115       0.299340  \nstd                   6.798878       0.457971  \nmin                   0.000000       0.000000  \n25%                  13.000000       0.000000  \n50%                  15.000000       0.000000  \n75%                  16.000000       1.000000  \nmax                  26.000000       1.000000  \n\n[11 rows x 57 columns]",
      "text/html": "<div>\n<style scoped>\n    .dataframe tbody tr th:only-of-type {\n        vertical-align: middle;\n    }\n\n    .dataframe tbody tr th {\n        vertical-align: top;\n    }\n\n    .dataframe thead th {\n        text-align: right;\n    }\n</style>\n<table border=\"1\" class=\"dataframe\">\n  <thead>\n    <tr style=\"text-align: right;\">\n      <th></th>\n      <th>Name</th>\n      <th>md5</th>\n      <th>Machine</th>\n      <th>SizeOfOptionalHeader</th>\n      <th>Characteristics</th>\n      <th>MajorLinkerVersion</th>\n      <th>MinorLinkerVersion</th>\n      <th>SizeOfCode</th>\n      <th>SizeOfInitializedData</th>\n      <th>SizeOfUninitializedData</th>\n      <th>...</th>\n      <th>ResourcesNb</th>\n      <th>ResourcesMeanEntropy</th>\n      <th>ResourcesMinEntropy</th>\n      <th>ResourcesMaxEntropy</th>\n      <th>ResourcesMeanSize</th>\n      <th>ResourcesMinSize</th>\n      <th>ResourcesMaxSize</th>\n      <th>LoadConfigurationSize</th>\n      <th>VersionInformationSize</th>\n      <th>legitimate</th>\n    </tr>\n  </thead>\n  <tbody>\n    <tr>\n      <th>count</th>\n      <td>138047</td>\n      <td>138047</td>\n      <td>138047.000000</td>\n      <td>138047.000000</td>\n      <td>138047.000000</td>\n      <td>138047.000000</td>\n      <td>138047.000000</td>\n      <td>1.380470e+05</td>\n      <td>1.380470e+05</td>\n      <td>1.380470e+05</td>\n      <td>...</td>\n      <td>138047.000000</td>\n      <td>138047.000000</td>\n      <td>138047.000000</td>\n      <td>138047.000000</td>\n      <td>1.380470e+05</td>\n      <td>1.380470e+05</td>\n      <td>1.380470e+05</td>\n      <td>1.380470e+05</td>\n      <td>138047.000000</td>\n      <td>138047.000000</td>\n    </tr>\n    <tr>\n      <th>unique</th>\n      <td>107488</td>\n      <td>138047</td>\n      <td>NaN</td>\n      <td>NaN</td>\n      <td>NaN</td>\n      <td>NaN</td>\n      <td>NaN</td>\n      <td>NaN</td>\n      <td>NaN</td>\n      <td>NaN</td>\n      <td>...</td>\n      <td>NaN</td>\n      <td>NaN</td>\n      <td>NaN</td>\n      <td>NaN</td>\n      <td>NaN</td>\n      <td>NaN</td>\n      <td>NaN</td>\n      <td>NaN</td>\n      <td>NaN</td>\n      <td>NaN</td>\n    </tr>\n    <tr>\n      <th>top</th>\n      <td>mshtml.dll</td>\n      <td>631ea355665f28d4707448e442fbf5b8</td>\n      <td>NaN</td>\n      <td>NaN</td>\n      <td>NaN</td>\n      <td>NaN</td>\n      <td>NaN</td>\n      <td>NaN</td>\n      <td>NaN</td>\n      <td>NaN</td>\n      <td>...</td>\n      <td>NaN</td>\n      <td>NaN</td>\n      <td>NaN</td>\n      <td>NaN</td>\n      <td>NaN</td>\n      <td>NaN</td>\n      <td>NaN</td>\n      <td>NaN</td>\n      <td>NaN</td>\n      <td>NaN</td>\n    </tr>\n    <tr>\n      <th>freq</th>\n      <td>187</td>\n      <td>1</td>\n      <td>NaN</td>\n      <td>NaN</td>\n      <td>NaN</td>\n      <td>NaN</td>\n      <td>NaN</td>\n      <td>NaN</td>\n      <td>NaN</td>\n      <td>NaN</td>\n      <td>...</td>\n      <td>NaN</td>\n      <td>NaN</td>\n      <td>NaN</td>\n      <td>NaN</td>\n      <td>NaN</td>\n      <td>NaN</td>\n      <td>NaN</td>\n      <td>NaN</td>\n      <td>NaN</td>\n      <td>NaN</td>\n    </tr>\n    <tr>\n      <th>mean</th>\n      <td>NaN</td>\n      <td>NaN</td>\n      <td>4259.069274</td>\n      <td>225.845632</td>\n      <td>4444.145994</td>\n      <td>8.619774</td>\n      <td>3.819286</td>\n      <td>2.425956e+05</td>\n      <td>4.504867e+05</td>\n      <td>1.009525e+05</td>\n      <td>...</td>\n      <td>22.050700</td>\n      <td>4.000127</td>\n      <td>2.434541</td>\n      <td>5.521610</td>\n      <td>5.545093e+04</td>\n      <td>1.818082e+04</td>\n      <td>2.465903e+05</td>\n      <td>4.656750e+05</td>\n      <td>12.363115</td>\n      <td>0.299340</td>\n    </tr>\n    <tr>\n      <th>std</th>\n      <td>NaN</td>\n      <td>NaN</td>\n      <td>10880.347245</td>\n      <td>5.121399</td>\n      <td>8186.782524</td>\n      <td>4.088757</td>\n      <td>11.862675</td>\n      <td>5.754485e+06</td>\n      <td>2.101599e+07</td>\n      <td>1.635288e+07</td>\n      <td>...</td>\n      <td>136.494244</td>\n      <td>1.112981</td>\n      <td>0.815577</td>\n      <td>1.597403</td>\n      <td>7.799163e+06</td>\n      <td>6.502369e+06</td>\n      <td>2.124860e+07</td>\n      <td>2.608987e+07</td>\n      <td>6.798878</td>\n      <td>0.457971</td>\n    </tr>\n    <tr>\n      <th>min</th>\n      <td>NaN</td>\n      <td>NaN</td>\n      <td>332.000000</td>\n      <td>224.000000</td>\n      <td>2.000000</td>\n      <td>0.000000</td>\n      <td>0.000000</td>\n      <td>0.000000e+00</td>\n      <td>0.000000e+00</td>\n      <td>0.000000e+00</td>\n      <td>...</td>\n      <td>0.000000</td>\n      <td>0.000000</td>\n      <td>0.000000</td>\n      <td>0.000000</td>\n      <td>0.000000e+00</td>\n      <td>0.000000e+00</td>\n      <td>0.000000e+00</td>\n      <td>0.000000e+00</td>\n      <td>0.000000</td>\n      <td>0.000000</td>\n    </tr>\n    <tr>\n      <th>25%</th>\n      <td>NaN</td>\n      <td>NaN</td>\n      <td>332.000000</td>\n      <td>224.000000</td>\n      <td>258.000000</td>\n      <td>8.000000</td>\n      <td>0.000000</td>\n      <td>3.020800e+04</td>\n      <td>2.457600e+04</td>\n      <td>0.000000e+00</td>\n      <td>...</td>\n      <td>5.000000</td>\n      <td>3.458505</td>\n      <td>2.178748</td>\n      <td>4.828706</td>\n      <td>9.560000e+02</td>\n      <td>4.800000e+01</td>\n      <td>2.216000e+03</td>\n      <td>0.000000e+00</td>\n      <td>13.000000</td>\n      <td>0.000000</td>\n    </tr>\n    <tr>\n      <th>50%</th>\n      <td>NaN</td>\n      <td>NaN</td>\n      <td>332.000000</td>\n      <td>224.000000</td>\n      <td>258.000000</td>\n      <td>9.000000</td>\n      <td>0.000000</td>\n      <td>1.136640e+05</td>\n      <td>2.631680e+05</td>\n      <td>0.000000e+00</td>\n      <td>...</td>\n      <td>6.000000</td>\n      <td>3.729824</td>\n      <td>2.458492</td>\n      <td>5.317552</td>\n      <td>2.708154e+03</td>\n      <td>4.800000e+01</td>\n      <td>9.640000e+03</td>\n      <td>7.200000e+01</td>\n      <td>15.000000</td>\n      <td>0.000000</td>\n    </tr>\n    <tr>\n      <th>75%</th>\n      <td>NaN</td>\n      <td>NaN</td>\n      <td>332.000000</td>\n      <td>224.000000</td>\n      <td>8226.000000</td>\n      <td>10.000000</td>\n      <td>0.000000</td>\n      <td>1.203200e+05</td>\n      <td>3.850240e+05</td>\n      <td>0.000000e+00</td>\n      <td>...</td>\n      <td>13.000000</td>\n      <td>4.233051</td>\n      <td>2.696833</td>\n      <td>6.502239</td>\n      <td>6.558429e+03</td>\n      <td>1.320000e+02</td>\n      <td>2.378000e+04</td>\n      <td>7.200000e+01</td>\n      <td>16.000000</td>\n      <td>1.000000</td>\n    </tr>\n    <tr>\n      <th>max</th>\n      <td>NaN</td>\n      <td>NaN</td>\n      <td>34404.000000</td>\n      <td>352.000000</td>\n      <td>49551.000000</td>\n      <td>255.000000</td>\n      <td>255.000000</td>\n      <td>1.818587e+09</td>\n      <td>4.294966e+09</td>\n      <td>4.294941e+09</td>\n      <td>...</td>\n      <td>7694.000000</td>\n      <td>7.999723</td>\n      <td>7.999723</td>\n      <td>8.000000</td>\n      <td>2.415919e+09</td>\n      <td>2.415919e+09</td>\n      <td>4.294903e+09</td>\n      <td>4.294967e+09</td>\n      <td>26.000000</td>\n      <td>1.000000</td>\n    </tr>\n  </tbody>\n</table>\n<p>11 rows × 57 columns</p>\n</div>"
     },
     "execution_count": 7,
     "metadata": {},
     "output_type": "execute_result"
    }
   ],
   "source": [
    "dataset.describe(include=\"all\")    # summary of numeric attributes"
   ]
  },
  {
   "cell_type": "code",
   "execution_count": 8,
   "id": "a53ee93a-920f-495c-8940-41847a4195ca",
   "metadata": {
    "pycharm": {
     "name": "#%%\n"
    }
   },
   "outputs": [
    {
     "name": "stdout",
     "output_type": "stream",
     "text": [
      "<class 'pandas.core.frame.DataFrame'>\n",
      "RangeIndex: 138047 entries, 0 to 138046\n",
      "Data columns (total 57 columns):\n",
      " #   Column                       Non-Null Count   Dtype  \n",
      "---  ------                       --------------   -----  \n",
      " 0   Name                         138047 non-null  object \n",
      " 1   md5                          138047 non-null  object \n",
      " 2   Machine                      138047 non-null  int64  \n",
      " 3   SizeOfOptionalHeader         138047 non-null  int64  \n",
      " 4   Characteristics              138047 non-null  int64  \n",
      " 5   MajorLinkerVersion           138047 non-null  int64  \n",
      " 6   MinorLinkerVersion           138047 non-null  int64  \n",
      " 7   SizeOfCode                   138047 non-null  int64  \n",
      " 8   SizeOfInitializedData        138047 non-null  int64  \n",
      " 9   SizeOfUninitializedData      138047 non-null  int64  \n",
      " 10  AddressOfEntryPoint          138047 non-null  int64  \n",
      " 11  BaseOfCode                   138047 non-null  int64  \n",
      " 12  BaseOfData                   138047 non-null  int64  \n",
      " 13  ImageBase                    138047 non-null  float64\n",
      " 14  SectionAlignment             138047 non-null  int64  \n",
      " 15  FileAlignment                138047 non-null  int64  \n",
      " 16  MajorOperatingSystemVersion  138047 non-null  int64  \n",
      " 17  MinorOperatingSystemVersion  138047 non-null  int64  \n",
      " 18  MajorImageVersion            138047 non-null  int64  \n",
      " 19  MinorImageVersion            138047 non-null  int64  \n",
      " 20  MajorSubsystemVersion        138047 non-null  int64  \n",
      " 21  MinorSubsystemVersion        138047 non-null  int64  \n",
      " 22  SizeOfImage                  138047 non-null  int64  \n",
      " 23  SizeOfHeaders                138047 non-null  int64  \n",
      " 24  CheckSum                     138047 non-null  int64  \n",
      " 25  Subsystem                    138047 non-null  int64  \n",
      " 26  DllCharacteristics           138047 non-null  int64  \n",
      " 27  SizeOfStackReserve           138047 non-null  int64  \n",
      " 28  SizeOfStackCommit            138047 non-null  int64  \n",
      " 29  SizeOfHeapReserve            138047 non-null  int64  \n",
      " 30  SizeOfHeapCommit             138047 non-null  int64  \n",
      " 31  LoaderFlags                  138047 non-null  int64  \n",
      " 32  NumberOfRvaAndSizes          138047 non-null  int64  \n",
      " 33  SectionsNb                   138047 non-null  int64  \n",
      " 34  SectionsMeanEntropy          138047 non-null  float64\n",
      " 35  SectionsMinEntropy           138047 non-null  float64\n",
      " 36  SectionsMaxEntropy           138047 non-null  float64\n",
      " 37  SectionsMeanRawsize          138047 non-null  float64\n",
      " 38  SectionsMinRawsize           138047 non-null  int64  \n",
      " 39  SectionMaxRawsize            138047 non-null  int64  \n",
      " 40  SectionsMeanVirtualsize      138047 non-null  float64\n",
      " 41  SectionsMinVirtualsize       138047 non-null  int64  \n",
      " 42  SectionMaxVirtualsize        138047 non-null  int64  \n",
      " 43  ImportsNbDLL                 138047 non-null  int64  \n",
      " 44  ImportsNb                    138047 non-null  int64  \n",
      " 45  ImportsNbOrdinal             138047 non-null  int64  \n",
      " 46  ExportNb                     138047 non-null  int64  \n",
      " 47  ResourcesNb                  138047 non-null  int64  \n",
      " 48  ResourcesMeanEntropy         138047 non-null  float64\n",
      " 49  ResourcesMinEntropy          138047 non-null  float64\n",
      " 50  ResourcesMaxEntropy          138047 non-null  float64\n",
      " 51  ResourcesMeanSize            138047 non-null  float64\n",
      " 52  ResourcesMinSize             138047 non-null  int64  \n",
      " 53  ResourcesMaxSize             138047 non-null  int64  \n",
      " 54  LoadConfigurationSize        138047 non-null  int64  \n",
      " 55  VersionInformationSize       138047 non-null  int64  \n",
      " 56  legitimate                   138047 non-null  int64  \n",
      "dtypes: float64(10), int64(45), object(2)\n",
      "memory usage: 60.0+ MB\n"
     ]
    }
   ],
   "source": [
    "dataset.info()    # info about the whole dataset"
   ]
  },
  {
   "cell_type": "code",
   "execution_count": 9,
   "id": "2637879f-fe2b-4003-b440-2e3856fa5774",
   "metadata": {
    "pycharm": {
     "name": "#%%\n"
    }
   },
   "outputs": [
    {
     "data": {
      "text/plain": "0    96724\n1    41323\nName: legitimate, dtype: int64"
     },
     "execution_count": 9,
     "metadata": {},
     "output_type": "execute_result"
    }
   ],
   "source": [
    "dataset[\"legitimate\"].value_counts()    # count of malware (0) and benign (1) files in dataset"
   ]
  },
  {
   "cell_type": "markdown",
   "id": "84a8ff48-d115-44e0-8c74-325c9d3f8fcd",
   "metadata": {
    "pycharm": {
     "name": "#%% md\n"
    }
   },
   "source": [
    "#### Visualization"
   ]
  },
  {
   "cell_type": "code",
   "execution_count": 10,
   "id": "c036b56f-12c0-4e3c-8574-96bcb5aee5cc",
   "metadata": {
    "pycharm": {
     "name": "#%%\n"
    }
   },
   "outputs": [
    {
     "data": {
      "text/plain": "<Figure size 640x480 with 1 Axes>",
      "image/png": "[encoded data removed]"
     },
     "metadata": {},
     "output_type": "display_data"
    }
   ],
   "source": [
    "import matplotlib.pyplot as plt\n",
    "\n",
    "dataset[\"legitimate\"].value_counts().plot(kind=\"pie\",autopct=\"%1.1f%%\")\n",
    "plt.show()"
   ]
  },
  {
   "cell_type": "code",
   "execution_count": 11,
   "id": "fa36411d-743b-414e-af44-57a8f1dc0b31",
   "metadata": {
    "pycharm": {
     "name": "#%%\n"
    }
   },
   "outputs": [],
   "source": [
    "import os\n",
    "import pandas\n",
    "import numpy\n",
    "import pickle\n",
    "import pefile\n",
    "import sklearn.ensemble as ek\n",
    "from sklearn.feature_selection import SelectFromModel\n",
    "import joblib\n",
    "from sklearn.tree import DecisionTreeClassifier\n",
    "from sklearn.metrics import confusion_matrix\n",
    "from sklearn import svm\n",
    "import sklearn.metrics as metrics"
   ]
  },
  {
   "cell_type": "markdown",
   "id": "c013252a-cb81-4459-bf20-d82a97cb8951",
   "metadata": {
    "pycharm": {
     "name": "#%% md\n"
    }
   },
   "source": [
    "#### Feature Selection"
   ]
  },
  {
   "cell_type": "code",
   "execution_count": 12,
   "id": "b8f71e6a-a501-471c-9267-aa3063317450",
   "metadata": {
    "pycharm": {
     "name": "#%%\n"
    }
   },
   "outputs": [],
   "source": [
    "# Feature\n",
    "X = dataset.drop(['Name','md5','legitimate'],axis=1).values    #Droping this because classification model will not accept object type elements (float and int only)\n",
    "# Target variable\n",
    "y = dataset['legitimate'].values"
   ]
  },
  {
   "cell_type": "markdown",
   "id": "6785f64e-9fd1-48bd-8528-03b687073929",
   "metadata": {
    "pycharm": {
     "name": "#%% md\n"
    }
   },
   "source": [
    "#### Data Fitting and choosing the important variables"
   ]
  },
  {
   "cell_type": "code",
   "execution_count": 13,
   "id": "caea8457-39be-4d2b-9a7b-1a45135b112a",
   "metadata": {
    "pycharm": {
     "name": "#%%\n"
    }
   },
   "outputs": [],
   "source": [
    "extratrees = ek.ExtraTreesClassifier().fit(X,y)\n",
    "model = SelectFromModel(extratrees, prefit=True)\n",
    "X_new = model.transform(X)\n",
    "nbfeatures = X_new.shape[1]"
   ]
  },
  {
   "cell_type": "code",
   "execution_count": 14,
   "id": "af897698-7abe-4a2c-9b70-6774a0738e8d",
   "metadata": {
    "pycharm": {
     "name": "#%%\n"
    }
   },
   "outputs": [
    {
     "data": {
      "text/plain": "14"
     },
     "execution_count": 14,
     "metadata": {},
     "output_type": "execute_result"
    }
   ],
   "source": [
    "#Number of important features\n",
    "nbfeatures"
   ]
  },
  {
   "cell_type": "code",
   "execution_count": 15,
   "id": "828c07b9-f6f2-40aa-a6d2-a1d86d7fdf70",
   "metadata": {
    "pycharm": {
     "name": "#%%\n"
    }
   },
   "outputs": [],
   "source": [
    "#splitting the data (70% - training and 30% - testing)\n",
    "\n",
    "from sklearn.model_selection import train_test_split\n",
    "X_train, X_test, y_train, y_test = train_test_split(X_new, y ,test_size=0.29, stratify = y)"
   ]
  },
  {
   "cell_type": "code",
   "execution_count": 16,
   "id": "82254f8a-3e23-4660-9ff4-e178e5a5c48b",
   "metadata": {
    "pycharm": {
     "name": "#%%\n"
    }
   },
   "outputs": [],
   "source": [
    "features = []\n",
    "index = numpy.argsort(extratrees.feature_importances_)[::-1][:nbfeatures]"
   ]
  },
  {
   "cell_type": "markdown",
   "id": "8c2a29fa-1cfa-4611-a79a-0a5c967f89b5",
   "metadata": {
    "pycharm": {
     "name": "#%% md\n"
    }
   },
   "source": [
    "#### All the required features"
   ]
  },
  {
   "cell_type": "code",
   "execution_count": 17,
   "id": "505da441-d292-4e8c-a517-26cca9ceed82",
   "metadata": {
    "pycharm": {
     "name": "#%%\n"
    }
   },
   "outputs": [
    {
     "name": "stdout",
     "output_type": "stream",
     "text": [
      "1. feature DllCharacteristics (0.135829)\n",
      "2. feature Machine (0.109097)\n",
      "3. feature Characteristics (0.088912)\n",
      "4. feature VersionInformationSize (0.071076)\n",
      "5. feature SectionsMaxEntropy (0.067650)\n",
      "6. feature Subsystem (0.067238)\n",
      "7. feature ImageBase (0.052314)\n",
      "8. feature MajorSubsystemVersion (0.050488)\n",
      "9. feature SizeOfOptionalHeader (0.042804)\n",
      "10. feature ResourcesMaxEntropy (0.037760)\n",
      "11. feature ResourcesMinEntropy (0.032602)\n",
      "12. feature SectionsMinEntropy (0.023838)\n",
      "13. feature MajorOperatingSystemVersion (0.023192)\n",
      "14. feature SectionsMeanEntropy (0.019027)\n"
     ]
    }
   ],
   "source": [
    "for f in range(nbfeatures):\n",
    "    print(\"%d. feature %s (%f)\" % (f + 1, dataset.columns[2+index[f]], extratrees.feature_importances_[index[f]]))\n",
    "    features.append(dataset.columns[2+f])"
   ]
  },
  {
   "cell_type": "markdown",
   "id": "07425aec-0f99-4fe9-ad4e-5a7f30837b4f",
   "metadata": {
    "pycharm": {
     "name": "#%% md\n"
    }
   },
   "source": [
    "#### Testing which Classifier will give better result"
   ]
  },
  {
   "cell_type": "code",
   "execution_count": 18,
   "id": "e02d04d3-52d9-4be3-a18f-bc5c88819b5c",
   "metadata": {
    "pycharm": {
     "name": "#%%\n"
    }
   },
   "outputs": [],
   "source": [
    "model = { \"DecisionTree\": DecisionTreeClassifier(max_depth=10),\n",
    "         \"RandomForest\":ek.RandomForestClassifier(n_estimators=50)}"
   ]
  },
  {
   "cell_type": "code",
   "execution_count": 19,
   "id": "9766934c-791d-42b6-ae57-b876a454ca0d",
   "metadata": {
    "pycharm": {
     "name": "#%%\n"
    }
   },
   "outputs": [
    {
     "name": "stdout",
     "output_type": "stream",
     "text": [
      "DecisionTree : 0.9901333866213718 \n",
      "RandomForest : 0.99375530798821 \n"
     ]
    }
   ],
   "source": [
    "results = {}\n",
    "for algo in model:\n",
    "    clf = model[algo]\n",
    "    clf.fit(X_train,y_train)\n",
    "    score = clf.score(X_test,y_test)\n",
    "    print (\"%s : %s \" %(algo, score))\n",
    "    results[algo] = score"
   ]
  },
  {
   "cell_type": "code",
   "execution_count": 20,
   "id": "4aedd363-431c-41f5-98ab-2d7195b517d5",
   "metadata": {
    "pycharm": {
     "name": "#%%\n"
    }
   },
   "outputs": [
    {
     "name": "stdout",
     "output_type": "stream",
     "text": [
      "Using RandomForest for classification, with 14 features.\n"
     ]
    }
   ],
   "source": [
    "winner = max(results, key=results.get)# Selecting the classifier with good result\n",
    "print(\"Using\", winner, \"for classification, with\",len(features), 'features.')"
   ]
  },
  {
   "cell_type": "markdown",
   "id": "600daaa2-79bb-4f5f-8b52-d222aa767a07",
   "metadata": {
    "pycharm": {
     "name": "#%% md\n"
    }
   },
   "source": [
    "#### Saving the machine as classifier.pkl and features to be extracted as features.pkl"
   ]
  },
  {
   "cell_type": "code",
   "execution_count": 21,
   "id": "61ef334b-949b-46f7-89e3-b0bf7be83fa0",
   "metadata": {
    "pycharm": {
     "name": "#%%\n"
    }
   },
   "outputs": [
    {
     "data": {
      "text/plain": "267"
     },
     "execution_count": 21,
     "metadata": {},
     "output_type": "execute_result"
    }
   ],
   "source": [
    "joblib.dump(model[winner],'classifier.pkl')\n",
    "open('features.pkl', 'wb').write(pickle.dumps(features))"
   ]
  },
  {
   "cell_type": "markdown",
   "id": "5af56a88-842d-4cef-ac16-b4362b181618",
   "metadata": {
    "pycharm": {
     "name": "#%% md\n"
    }
   },
   "source": [
    "#### Loading the classifier and features"
   ]
  },
  {
   "cell_type": "code",
   "execution_count": 22,
   "id": "d480d113-d542-459f-8cfa-abc5b755394c",
   "metadata": {
    "pycharm": {
     "name": "#%%\n"
    }
   },
   "outputs": [],
   "source": [
    "# Load classifier\n",
    "clf = joblib.load('classifier.pkl')\n",
    "#load features\n",
    "features = pickle.loads(open(os.path.join('features.pkl'),'rb').read())"
   ]
  },
  {
   "cell_type": "markdown",
   "id": "178c5a16-be7c-4f51-87c8-94770272fb27",
   "metadata": {
    "pycharm": {
     "name": "#%% md\n"
    }
   },
   "source": [
    "### Sample output\n",
    "\n",
    "#### First line - Extracted features\n",
    "#### Second line - malware/legitimate"
   ]
  },
  {
   "cell_type": "code",
   "execution_count": 23,
   "id": "964e799b-2a9b-491b-af8f-42be65ee0328",
   "metadata": {
    "pycharm": {
     "name": "#%%\n"
    }
   },
   "outputs": [
    {
     "ename": "Exception",
     "evalue": "File `'main.py'` not found.",
     "output_type": "error",
     "traceback": [
      "\u001B[1;31m---------------------------------------------------------------------------\u001B[0m",
      "\u001B[1;31mOSError\u001B[0m                                   Traceback (most recent call last)",
      "File \u001B[1;32mD:\\Learn_Py\\DataSci\\venv\\lib\\site-packages\\IPython\\core\\magics\\execution.py:696\u001B[0m, in \u001B[0;36mExecutionMagics.run\u001B[1;34m(self, parameter_s, runner, file_finder)\u001B[0m\n\u001B[0;32m    695\u001B[0m     fpath \u001B[38;5;241m=\u001B[39m arg_lst[\u001B[38;5;241m0\u001B[39m]\n\u001B[1;32m--> 696\u001B[0m     filename \u001B[38;5;241m=\u001B[39m \u001B[43mfile_finder\u001B[49m\u001B[43m(\u001B[49m\u001B[43mfpath\u001B[49m\u001B[43m)\u001B[49m\n\u001B[0;32m    697\u001B[0m \u001B[38;5;28;01mexcept\u001B[39;00m \u001B[38;5;167;01mIndexError\u001B[39;00m \u001B[38;5;28;01mas\u001B[39;00m e:\n",
      "File \u001B[1;32mD:\\Learn_Py\\DataSci\\venv\\lib\\site-packages\\IPython\\utils\\path.py:90\u001B[0m, in \u001B[0;36mget_py_filename\u001B[1;34m(name)\u001B[0m\n\u001B[0;32m     89\u001B[0m         \u001B[38;5;28;01mreturn\u001B[39;00m py_name\n\u001B[1;32m---> 90\u001B[0m \u001B[38;5;28;01mraise\u001B[39;00m \u001B[38;5;167;01mIOError\u001B[39;00m(\u001B[38;5;124m\"\u001B[39m\u001B[38;5;124mFile `\u001B[39m\u001B[38;5;132;01m%r\u001B[39;00m\u001B[38;5;124m` not found.\u001B[39m\u001B[38;5;124m\"\u001B[39m \u001B[38;5;241m%\u001B[39m name)\n",
      "\u001B[1;31mOSError\u001B[0m: File `'main.py'` not found.",
      "\nThe above exception was the direct cause of the following exception:\n",
      "\u001B[1;31mException\u001B[0m                                 Traceback (most recent call last)",
      "Cell \u001B[1;32mIn[23], line 1\u001B[0m\n\u001B[1;32m----> 1\u001B[0m \u001B[43mget_ipython\u001B[49m\u001B[43m(\u001B[49m\u001B[43m)\u001B[49m\u001B[38;5;241;43m.\u001B[39;49m\u001B[43mrun_line_magic\u001B[49m\u001B[43m(\u001B[49m\u001B[38;5;124;43m'\u001B[39;49m\u001B[38;5;124;43mrun\u001B[39;49m\u001B[38;5;124;43m'\u001B[39;49m\u001B[43m,\u001B[49m\u001B[43m \u001B[49m\u001B[38;5;124;43m'\u001B[39;49m\u001B[38;5;124;43mmain.py \u001B[39;49m\u001B[38;5;124;43m\"\u001B[39;49m\u001B[38;5;124;43mLoJaxSmallAgent.exe\u001B[39;49m\u001B[38;5;124;43m\"\u001B[39;49m\u001B[38;5;124;43m'\u001B[39;49m\u001B[43m)\u001B[49m\n",
      "File \u001B[1;32mD:\\Learn_Py\\DataSci\\venv\\lib\\site-packages\\IPython\\core\\interactiveshell.py:2369\u001B[0m, in \u001B[0;36mInteractiveShell.run_line_magic\u001B[1;34m(self, magic_name, line, _stack_depth)\u001B[0m\n\u001B[0;32m   2367\u001B[0m     kwargs[\u001B[38;5;124m'\u001B[39m\u001B[38;5;124mlocal_ns\u001B[39m\u001B[38;5;124m'\u001B[39m] \u001B[38;5;241m=\u001B[39m \u001B[38;5;28mself\u001B[39m\u001B[38;5;241m.\u001B[39mget_local_scope(stack_depth)\n\u001B[0;32m   2368\u001B[0m \u001B[38;5;28;01mwith\u001B[39;00m \u001B[38;5;28mself\u001B[39m\u001B[38;5;241m.\u001B[39mbuiltin_trap:\n\u001B[1;32m-> 2369\u001B[0m     result \u001B[38;5;241m=\u001B[39m fn(\u001B[38;5;241m*\u001B[39margs, \u001B[38;5;241m*\u001B[39m\u001B[38;5;241m*\u001B[39mkwargs)\n\u001B[0;32m   2370\u001B[0m \u001B[38;5;28;01mreturn\u001B[39;00m result\n",
      "File \u001B[1;32mD:\\Learn_Py\\DataSci\\venv\\lib\\site-packages\\IPython\\core\\magics\\execution.py:707\u001B[0m, in \u001B[0;36mExecutionMagics.run\u001B[1;34m(self, parameter_s, runner, file_finder)\u001B[0m\n\u001B[0;32m    705\u001B[0m     \u001B[38;5;28;01mif\u001B[39;00m os\u001B[38;5;241m.\u001B[39mname \u001B[38;5;241m==\u001B[39m \u001B[38;5;124m'\u001B[39m\u001B[38;5;124mnt\u001B[39m\u001B[38;5;124m'\u001B[39m \u001B[38;5;129;01mand\u001B[39;00m re\u001B[38;5;241m.\u001B[39mmatch(\u001B[38;5;124mr\u001B[39m\u001B[38;5;124m\"\u001B[39m\u001B[38;5;124m^\u001B[39m\u001B[38;5;124m'\u001B[39m\u001B[38;5;124m.*\u001B[39m\u001B[38;5;124m'\u001B[39m\u001B[38;5;124m$\u001B[39m\u001B[38;5;124m\"\u001B[39m,fpath):\n\u001B[0;32m    706\u001B[0m         warn(\u001B[38;5;124m'\u001B[39m\u001B[38;5;124mFor Windows, use double quotes to wrap a filename: \u001B[39m\u001B[38;5;132;01m%r\u001B[39;00m\u001B[38;5;124mun \u001B[39m\u001B[38;5;124m\"\u001B[39m\u001B[38;5;124mmypath\u001B[39m\u001B[38;5;130;01m\\\\\u001B[39;00m\u001B[38;5;124mmyfile.py\u001B[39m\u001B[38;5;124m\"\u001B[39m\u001B[38;5;124m'\u001B[39m)\n\u001B[1;32m--> 707\u001B[0m     \u001B[38;5;28;01mraise\u001B[39;00m \u001B[38;5;167;01mException\u001B[39;00m(msg) \u001B[38;5;28;01mfrom\u001B[39;00m \u001B[38;5;21;01me\u001B[39;00m\n\u001B[0;32m    708\u001B[0m \u001B[38;5;28;01mexcept\u001B[39;00m \u001B[38;5;167;01mTypeError\u001B[39;00m:\n\u001B[0;32m    709\u001B[0m     \u001B[38;5;28;01mif\u001B[39;00m fpath \u001B[38;5;129;01min\u001B[39;00m sys\u001B[38;5;241m.\u001B[39mmeta_path:\n",
      "\u001B[1;31mException\u001B[0m: File `'main.py'` not found."
     ]
    }
   ],
   "source": [
    "%run main.py \"LoJaxSmallAgent.exe\""
   ]
  },
  {
   "cell_type": "code",
   "execution_count": null,
   "id": "20447936-ebf5-4095-be1d-0fb235b1239d",
   "metadata": {
    "pycharm": {
     "name": "#%%\n"
    }
   },
   "outputs": [],
   "source": []
  },
  {
   "cell_type": "code",
   "execution_count": null,
   "id": "8e6d0f23-9971-4757-9eff-7c1e6eddf1f8",
   "metadata": {
    "pycharm": {
     "name": "#%%\n"
    }
   },
   "outputs": [],
   "source": []
  },
  {
   "cell_type": "code",
   "execution_count": null,
   "id": "127a8ea7-3470-4c45-8c6b-0639d512a167",
   "metadata": {
    "pycharm": {
     "name": "#%%\n"
    }
   },
   "outputs": [],
   "source": []
  },
  {
   "cell_type": "code",
   "execution_count": null,
   "id": "9ea1edde-2b00-4608-8d30-aca6535d43fc",
   "metadata": {
    "pycharm": {
     "name": "#%%\n"
    }
   },
   "outputs": [],
   "source": []
  }
 ],
 "metadata": {
  "kernelspec": {
   "display_name": "Python 3",
   "language": "python",
   "name": "python3"
  },
  "language_info": {
   "codemirror_mode": {
    "name": "ipython",
    "version": 3
   },
   "file_extension": ".py",
   "mimetype": "text/x-python",
   "name": "python",
   "nbconvert_exporter": "python",
   "pygments_lexer": "ipython3",
   "version": "3.8.8"
  }
 },
 "nbformat": 4,
 "nbformat_minor": 5
}